{
 "cells": [
  {
   "cell_type": "code",
   "execution_count": 4,
   "id": "03a7caf4",
   "metadata": {},
   "outputs": [],
   "source": [
    "import os\n",
    "import json"
   ]
  },
  {
   "cell_type": "code",
   "execution_count": 5,
   "id": "580fd4bf",
   "metadata": {},
   "outputs": [
    {
     "data": {
      "text/plain": [
       "'e:\\\\Cool Yeah\\\\Semester 6\\\\TextMining\\\\FP\\\\chatbot-uu-tni\\\\Dataset'"
      ]
     },
     "execution_count": 5,
     "metadata": {},
     "output_type": "execute_result"
    }
   ],
   "source": [
    "path = os.getcwd()\n",
    "datapath = os.path.join(path, 'Dataset')\n",
    "datapath"
   ]
  },
  {
   "cell_type": "code",
   "execution_count": 6,
   "id": "9d8b895d",
   "metadata": {},
   "outputs": [
    {
     "name": "stdout",
     "output_type": "stream",
     "text": [
      "Total number of items: 1973\n"
     ]
    }
   ],
   "source": [
    "full_data = []\n",
    "count = 0\n",
    "for filename in os.listdir(datapath):\n",
    "    if os.path.isdir(os.path.join(datapath, filename)):\n",
    "        for subfilename in os.listdir(os.path.join(datapath, filename)):\n",
    "            if subfilename.endswith('.json'):\n",
    "                with open(os.path.join(datapath, filename, subfilename), 'r') as f:\n",
    "                    data = json.load(f)\n",
    "                    for item in data:\n",
    "                        full_data.append(item)\n",
    "                        count += 1\n",
    "\n",
    "print(f\"Total number of items: {count}\")\n",
    "# Save the full data to a JSON file\n",
    "with open('dataset.json', 'w') as f:\n",
    "    json.dump(full_data, f, indent=4)"
   ]
  }
 ],
 "metadata": {
  "kernelspec": {
   "display_name": "ml2",
   "language": "python",
   "name": "python3"
  },
  "language_info": {
   "codemirror_mode": {
    "name": "ipython",
    "version": 3
   },
   "file_extension": ".py",
   "mimetype": "text/x-python",
   "name": "python",
   "nbconvert_exporter": "python",
   "pygments_lexer": "ipython3",
   "version": "3.12.3"
  }
 },
 "nbformat": 4,
 "nbformat_minor": 5
}
