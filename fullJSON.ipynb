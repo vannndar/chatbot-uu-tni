{
 "cells": [
  {
   "cell_type": "code",
   "execution_count": 9,
   "id": "03a7caf4",
   "metadata": {},
   "outputs": [],
   "source": [
    "import os\n",
    "import json\n",
    "import pandas as pd\n",
    "import glob"
   ]
  },
  {
   "cell_type": "code",
   "execution_count": 10,
   "id": "580fd4bf",
   "metadata": {},
   "outputs": [
    {
     "data": {
      "text/plain": [
       "['c:\\\\Users\\\\lucky\\\\OneDrive\\\\Documents\\\\Kuliah\\\\SEMESTER 6\\\\Text Mining\\\\chatbot-uu-tni\\\\Dataset\\\\dataset_1-26\\\\perbahan_uu_1-30.json',\n",
       " 'c:\\\\Users\\\\lucky\\\\OneDrive\\\\Documents\\\\Kuliah\\\\SEMESTER 6\\\\Text Mining\\\\chatbot-uu-tni\\\\Dataset\\\\dataset_1-26\\\\perubahan_uu_121-150.json',\n",
       " 'c:\\\\Users\\\\lucky\\\\OneDrive\\\\Documents\\\\Kuliah\\\\SEMESTER 6\\\\Text Mining\\\\chatbot-uu-tni\\\\Dataset\\\\dataset_1-26\\\\perubahan_uu_151-180.json',\n",
       " 'c:\\\\Users\\\\lucky\\\\OneDrive\\\\Documents\\\\Kuliah\\\\SEMESTER 6\\\\Text Mining\\\\chatbot-uu-tni\\\\Dataset\\\\dataset_1-26\\\\perubahan_uu_31-90.json',\n",
       " 'c:\\\\Users\\\\lucky\\\\OneDrive\\\\Documents\\\\Kuliah\\\\SEMESTER 6\\\\Text Mining\\\\chatbot-uu-tni\\\\Dataset\\\\dataset_1-26\\\\perubahan_uu_91-120.json',\n",
       " 'c:\\\\Users\\\\lucky\\\\OneDrive\\\\Documents\\\\Kuliah\\\\SEMESTER 6\\\\Text Mining\\\\chatbot-uu-tni\\\\Dataset\\\\dataset_1-26\\\\uu_34_tahun_2004_1-30.json',\n",
       " 'c:\\\\Users\\\\lucky\\\\OneDrive\\\\Documents\\\\Kuliah\\\\SEMESTER 6\\\\Text Mining\\\\chatbot-uu-tni\\\\Dataset\\\\dataset_1-26\\\\uu_34_tahun_2004_1031 - 1080.json',\n",
       " 'c:\\\\Users\\\\lucky\\\\OneDrive\\\\Documents\\\\Kuliah\\\\SEMESTER 6\\\\Text Mining\\\\chatbot-uu-tni\\\\Dataset\\\\dataset_1-26\\\\uu_34_tahun_2004_121-171.json',\n",
       " 'c:\\\\Users\\\\lucky\\\\OneDrive\\\\Documents\\\\Kuliah\\\\SEMESTER 6\\\\Text Mining\\\\chatbot-uu-tni\\\\Dataset\\\\dataset_1-26\\\\uu_34_tahun_2004_171-220.json',\n",
       " 'c:\\\\Users\\\\lucky\\\\OneDrive\\\\Documents\\\\Kuliah\\\\SEMESTER 6\\\\Text Mining\\\\chatbot-uu-tni\\\\Dataset\\\\dataset_1-26\\\\uu_34_tahun_2004_221-270.json',\n",
       " 'c:\\\\Users\\\\lucky\\\\OneDrive\\\\Documents\\\\Kuliah\\\\SEMESTER 6\\\\Text Mining\\\\chatbot-uu-tni\\\\Dataset\\\\dataset_1-26\\\\uu_34_tahun_2004_271-320.json',\n",
       " 'c:\\\\Users\\\\lucky\\\\OneDrive\\\\Documents\\\\Kuliah\\\\SEMESTER 6\\\\Text Mining\\\\chatbot-uu-tni\\\\Dataset\\\\dataset_1-26\\\\uu_34_tahun_2004_31-60.json',\n",
       " 'c:\\\\Users\\\\lucky\\\\OneDrive\\\\Documents\\\\Kuliah\\\\SEMESTER 6\\\\Text Mining\\\\chatbot-uu-tni\\\\Dataset\\\\dataset_1-26\\\\uu_34_tahun_2004_321-370.json',\n",
       " 'c:\\\\Users\\\\lucky\\\\OneDrive\\\\Documents\\\\Kuliah\\\\SEMESTER 6\\\\Text Mining\\\\chatbot-uu-tni\\\\Dataset\\\\dataset_1-26\\\\uu_34_tahun_2004_371-420.json',\n",
       " 'c:\\\\Users\\\\lucky\\\\OneDrive\\\\Documents\\\\Kuliah\\\\SEMESTER 6\\\\Text Mining\\\\chatbot-uu-tni\\\\Dataset\\\\dataset_1-26\\\\uu_34_tahun_2004_421-470.json',\n",
       " 'c:\\\\Users\\\\lucky\\\\OneDrive\\\\Documents\\\\Kuliah\\\\SEMESTER 6\\\\Text Mining\\\\chatbot-uu-tni\\\\Dataset\\\\dataset_1-26\\\\uu_34_tahun_2004_471-571.json',\n",
       " 'c:\\\\Users\\\\lucky\\\\OneDrive\\\\Documents\\\\Kuliah\\\\SEMESTER 6\\\\Text Mining\\\\chatbot-uu-tni\\\\Dataset\\\\dataset_1-26\\\\uu_34_tahun_2004_571-620.json',\n",
       " 'c:\\\\Users\\\\lucky\\\\OneDrive\\\\Documents\\\\Kuliah\\\\SEMESTER 6\\\\Text Mining\\\\chatbot-uu-tni\\\\Dataset\\\\dataset_1-26\\\\uu_34_tahun_2004_61-80.json',\n",
       " 'c:\\\\Users\\\\lucky\\\\OneDrive\\\\Documents\\\\Kuliah\\\\SEMESTER 6\\\\Text Mining\\\\chatbot-uu-tni\\\\Dataset\\\\dataset_1-26\\\\uu_34_tahun_2004_621-671_fixed_context.json',\n",
       " 'c:\\\\Users\\\\lucky\\\\OneDrive\\\\Documents\\\\Kuliah\\\\SEMESTER 6\\\\Text Mining\\\\chatbot-uu-tni\\\\Dataset\\\\dataset_1-26\\\\uu_34_tahun_2004_671-720_fixed_context.json',\n",
       " 'c:\\\\Users\\\\lucky\\\\OneDrive\\\\Documents\\\\Kuliah\\\\SEMESTER 6\\\\Text Mining\\\\chatbot-uu-tni\\\\Dataset\\\\dataset_1-26\\\\uu_34_tahun_2004_721-770.json',\n",
       " 'c:\\\\Users\\\\lucky\\\\OneDrive\\\\Documents\\\\Kuliah\\\\SEMESTER 6\\\\Text Mining\\\\chatbot-uu-tni\\\\Dataset\\\\dataset_1-26\\\\uu_34_tahun_2004_771-821_fixed_context.json',\n",
       " 'c:\\\\Users\\\\lucky\\\\OneDrive\\\\Documents\\\\Kuliah\\\\SEMESTER 6\\\\Text Mining\\\\chatbot-uu-tni\\\\Dataset\\\\dataset_1-26\\\\uu_34_tahun_2004_81-90.json',\n",
       " 'c:\\\\Users\\\\lucky\\\\OneDrive\\\\Documents\\\\Kuliah\\\\SEMESTER 6\\\\Text Mining\\\\chatbot-uu-tni\\\\Dataset\\\\dataset_1-26\\\\uu_34_tahun_2004_821-870_fixed_context.json',\n",
       " 'c:\\\\Users\\\\lucky\\\\OneDrive\\\\Documents\\\\Kuliah\\\\SEMESTER 6\\\\Text Mining\\\\chatbot-uu-tni\\\\Dataset\\\\dataset_1-26\\\\uu_34_tahun_2004_871 - 920.json',\n",
       " 'c:\\\\Users\\\\lucky\\\\OneDrive\\\\Documents\\\\Kuliah\\\\SEMESTER 6\\\\Text Mining\\\\chatbot-uu-tni\\\\Dataset\\\\dataset_1-26\\\\uu_34_tahun_2004_91-120.json',\n",
       " 'c:\\\\Users\\\\lucky\\\\OneDrive\\\\Documents\\\\Kuliah\\\\SEMESTER 6\\\\Text Mining\\\\chatbot-uu-tni\\\\Dataset\\\\dataset_1-26\\\\uu_34_tahun_2004_921-970.json',\n",
       " 'c:\\\\Users\\\\lucky\\\\OneDrive\\\\Documents\\\\Kuliah\\\\SEMESTER 6\\\\Text Mining\\\\chatbot-uu-tni\\\\Dataset\\\\dataset_1-26\\\\uu_34_tahun_2004_971-980.json',\n",
       " 'c:\\\\Users\\\\lucky\\\\OneDrive\\\\Documents\\\\Kuliah\\\\SEMESTER 6\\\\Text Mining\\\\chatbot-uu-tni\\\\Dataset\\\\dataset_1-26\\\\uu_34_tahun_2004_981-1030.json',\n",
       " 'c:\\\\Users\\\\lucky\\\\OneDrive\\\\Documents\\\\Kuliah\\\\SEMESTER 6\\\\Text Mining\\\\chatbot-uu-tni\\\\Dataset\\\\dataset_27-52\\\\uu_34_tahun_2004_27.json',\n",
       " 'c:\\\\Users\\\\lucky\\\\OneDrive\\\\Documents\\\\Kuliah\\\\SEMESTER 6\\\\Text Mining\\\\chatbot-uu-tni\\\\Dataset\\\\dataset_27-52\\\\uu_34_tahun_2004_28.json',\n",
       " 'c:\\\\Users\\\\lucky\\\\OneDrive\\\\Documents\\\\Kuliah\\\\SEMESTER 6\\\\Text Mining\\\\chatbot-uu-tni\\\\Dataset\\\\dataset_27-52\\\\uu_34_tahun_2004_29.json',\n",
       " 'c:\\\\Users\\\\lucky\\\\OneDrive\\\\Documents\\\\Kuliah\\\\SEMESTER 6\\\\Text Mining\\\\chatbot-uu-tni\\\\Dataset\\\\dataset_27-52\\\\uu_34_tahun_2004_30.json',\n",
       " 'c:\\\\Users\\\\lucky\\\\OneDrive\\\\Documents\\\\Kuliah\\\\SEMESTER 6\\\\Text Mining\\\\chatbot-uu-tni\\\\Dataset\\\\dataset_27-52\\\\uu_34_tahun_2004_31.json',\n",
       " 'c:\\\\Users\\\\lucky\\\\OneDrive\\\\Documents\\\\Kuliah\\\\SEMESTER 6\\\\Text Mining\\\\chatbot-uu-tni\\\\Dataset\\\\dataset_27-52\\\\uu_34_tahun_2004_32.json',\n",
       " 'c:\\\\Users\\\\lucky\\\\OneDrive\\\\Documents\\\\Kuliah\\\\SEMESTER 6\\\\Text Mining\\\\chatbot-uu-tni\\\\Dataset\\\\dataset_27-52\\\\uu_34_tahun_2004_33.json',\n",
       " 'c:\\\\Users\\\\lucky\\\\OneDrive\\\\Documents\\\\Kuliah\\\\SEMESTER 6\\\\Text Mining\\\\chatbot-uu-tni\\\\Dataset\\\\dataset_27-52\\\\uu_34_tahun_2004_34.json',\n",
       " 'c:\\\\Users\\\\lucky\\\\OneDrive\\\\Documents\\\\Kuliah\\\\SEMESTER 6\\\\Text Mining\\\\chatbot-uu-tni\\\\Dataset\\\\dataset_27-52\\\\uu_34_tahun_2004_35.json',\n",
       " 'c:\\\\Users\\\\lucky\\\\OneDrive\\\\Documents\\\\Kuliah\\\\SEMESTER 6\\\\Text Mining\\\\chatbot-uu-tni\\\\Dataset\\\\dataset_27-52\\\\uu_34_tahun_2004_36.json',\n",
       " 'c:\\\\Users\\\\lucky\\\\OneDrive\\\\Documents\\\\Kuliah\\\\SEMESTER 6\\\\Text Mining\\\\chatbot-uu-tni\\\\Dataset\\\\dataset_27-52\\\\uu_34_tahun_2004_37.json',\n",
       " 'c:\\\\Users\\\\lucky\\\\OneDrive\\\\Documents\\\\Kuliah\\\\SEMESTER 6\\\\Text Mining\\\\chatbot-uu-tni\\\\Dataset\\\\dataset_27-52\\\\uu_34_tahun_2004_38.json',\n",
       " 'c:\\\\Users\\\\lucky\\\\OneDrive\\\\Documents\\\\Kuliah\\\\SEMESTER 6\\\\Text Mining\\\\chatbot-uu-tni\\\\Dataset\\\\dataset_27-52\\\\uu_34_tahun_2004_39.json',\n",
       " 'c:\\\\Users\\\\lucky\\\\OneDrive\\\\Documents\\\\Kuliah\\\\SEMESTER 6\\\\Text Mining\\\\chatbot-uu-tni\\\\Dataset\\\\dataset_27-52\\\\uu_34_tahun_2004_40.json',\n",
       " 'c:\\\\Users\\\\lucky\\\\OneDrive\\\\Documents\\\\Kuliah\\\\SEMESTER 6\\\\Text Mining\\\\chatbot-uu-tni\\\\Dataset\\\\dataset_27-52\\\\uu_34_tahun_2004_41.json',\n",
       " 'c:\\\\Users\\\\lucky\\\\OneDrive\\\\Documents\\\\Kuliah\\\\SEMESTER 6\\\\Text Mining\\\\chatbot-uu-tni\\\\Dataset\\\\dataset_27-52\\\\uu_34_tahun_2004_42.json',\n",
       " 'c:\\\\Users\\\\lucky\\\\OneDrive\\\\Documents\\\\Kuliah\\\\SEMESTER 6\\\\Text Mining\\\\chatbot-uu-tni\\\\Dataset\\\\dataset_27-52\\\\uu_34_tahun_2004_43.json',\n",
       " 'c:\\\\Users\\\\lucky\\\\OneDrive\\\\Documents\\\\Kuliah\\\\SEMESTER 6\\\\Text Mining\\\\chatbot-uu-tni\\\\Dataset\\\\dataset_27-52\\\\uu_34_tahun_2004_44.json',\n",
       " 'c:\\\\Users\\\\lucky\\\\OneDrive\\\\Documents\\\\Kuliah\\\\SEMESTER 6\\\\Text Mining\\\\chatbot-uu-tni\\\\Dataset\\\\dataset_27-52\\\\uu_34_tahun_2004_45.json',\n",
       " 'c:\\\\Users\\\\lucky\\\\OneDrive\\\\Documents\\\\Kuliah\\\\SEMESTER 6\\\\Text Mining\\\\chatbot-uu-tni\\\\Dataset\\\\dataset_27-52\\\\uu_34_tahun_2004_46.json',\n",
       " 'c:\\\\Users\\\\lucky\\\\OneDrive\\\\Documents\\\\Kuliah\\\\SEMESTER 6\\\\Text Mining\\\\chatbot-uu-tni\\\\Dataset\\\\dataset_27-52\\\\uu_34_tahun_2004_47.json',\n",
       " 'c:\\\\Users\\\\lucky\\\\OneDrive\\\\Documents\\\\Kuliah\\\\SEMESTER 6\\\\Text Mining\\\\chatbot-uu-tni\\\\Dataset\\\\dataset_27-52\\\\uu_34_tahun_2004_47_perubahan.json',\n",
       " 'c:\\\\Users\\\\lucky\\\\OneDrive\\\\Documents\\\\Kuliah\\\\SEMESTER 6\\\\Text Mining\\\\chatbot-uu-tni\\\\Dataset\\\\dataset_27-52\\\\uu_34_tahun_2004_48.json',\n",
       " 'c:\\\\Users\\\\lucky\\\\OneDrive\\\\Documents\\\\Kuliah\\\\SEMESTER 6\\\\Text Mining\\\\chatbot-uu-tni\\\\Dataset\\\\dataset_27-52\\\\uu_34_tahun_2004_49.json',\n",
       " 'c:\\\\Users\\\\lucky\\\\OneDrive\\\\Documents\\\\Kuliah\\\\SEMESTER 6\\\\Text Mining\\\\chatbot-uu-tni\\\\Dataset\\\\dataset_27-52\\\\uu_34_tahun_2004_50.json',\n",
       " 'c:\\\\Users\\\\lucky\\\\OneDrive\\\\Documents\\\\Kuliah\\\\SEMESTER 6\\\\Text Mining\\\\chatbot-uu-tni\\\\Dataset\\\\dataset_27-52\\\\uu_34_tahun_2004_51.json',\n",
       " 'c:\\\\Users\\\\lucky\\\\OneDrive\\\\Documents\\\\Kuliah\\\\SEMESTER 6\\\\Text Mining\\\\chatbot-uu-tni\\\\Dataset\\\\dataset_27-52\\\\uu_34_tahun_2004_52.json',\n",
       " 'c:\\\\Users\\\\lucky\\\\OneDrive\\\\Documents\\\\Kuliah\\\\SEMESTER 6\\\\Text Mining\\\\chatbot-uu-tni\\\\Dataset\\\\dataset_53-78\\\\uu_34_tahun_2004_53.json',\n",
       " 'c:\\\\Users\\\\lucky\\\\OneDrive\\\\Documents\\\\Kuliah\\\\SEMESTER 6\\\\Text Mining\\\\chatbot-uu-tni\\\\Dataset\\\\dataset_53-78\\\\uu_34_tahun_2004_53_perubahan.json',\n",
       " 'c:\\\\Users\\\\lucky\\\\OneDrive\\\\Documents\\\\Kuliah\\\\SEMESTER 6\\\\Text Mining\\\\chatbot-uu-tni\\\\Dataset\\\\dataset_53-78\\\\uu_34_tahun_2004_54.json',\n",
       " 'c:\\\\Users\\\\lucky\\\\OneDrive\\\\Documents\\\\Kuliah\\\\SEMESTER 6\\\\Text Mining\\\\chatbot-uu-tni\\\\Dataset\\\\dataset_53-78\\\\uu_34_tahun_2004_55.json',\n",
       " 'c:\\\\Users\\\\lucky\\\\OneDrive\\\\Documents\\\\Kuliah\\\\SEMESTER 6\\\\Text Mining\\\\chatbot-uu-tni\\\\Dataset\\\\dataset_53-78\\\\uu_34_tahun_2004_56.json',\n",
       " 'c:\\\\Users\\\\lucky\\\\OneDrive\\\\Documents\\\\Kuliah\\\\SEMESTER 6\\\\Text Mining\\\\chatbot-uu-tni\\\\Dataset\\\\dataset_53-78\\\\uu_34_tahun_2004_57.json',\n",
       " 'c:\\\\Users\\\\lucky\\\\OneDrive\\\\Documents\\\\Kuliah\\\\SEMESTER 6\\\\Text Mining\\\\chatbot-uu-tni\\\\Dataset\\\\dataset_53-78\\\\uu_34_tahun_2004_58.json',\n",
       " 'c:\\\\Users\\\\lucky\\\\OneDrive\\\\Documents\\\\Kuliah\\\\SEMESTER 6\\\\Text Mining\\\\chatbot-uu-tni\\\\Dataset\\\\dataset_53-78\\\\uu_34_tahun_2004_59.json',\n",
       " 'c:\\\\Users\\\\lucky\\\\OneDrive\\\\Documents\\\\Kuliah\\\\SEMESTER 6\\\\Text Mining\\\\chatbot-uu-tni\\\\Dataset\\\\dataset_53-78\\\\uu_34_tahun_2004_60.json',\n",
       " 'c:\\\\Users\\\\lucky\\\\OneDrive\\\\Documents\\\\Kuliah\\\\SEMESTER 6\\\\Text Mining\\\\chatbot-uu-tni\\\\Dataset\\\\dataset_53-78\\\\uu_34_tahun_2004_61.json',\n",
       " 'c:\\\\Users\\\\lucky\\\\OneDrive\\\\Documents\\\\Kuliah\\\\SEMESTER 6\\\\Text Mining\\\\chatbot-uu-tni\\\\Dataset\\\\dataset_53-78\\\\uu_34_tahun_2004_62.json',\n",
       " 'c:\\\\Users\\\\lucky\\\\OneDrive\\\\Documents\\\\Kuliah\\\\SEMESTER 6\\\\Text Mining\\\\chatbot-uu-tni\\\\Dataset\\\\dataset_53-78\\\\uu_34_tahun_2004_63.json',\n",
       " 'c:\\\\Users\\\\lucky\\\\OneDrive\\\\Documents\\\\Kuliah\\\\SEMESTER 6\\\\Text Mining\\\\chatbot-uu-tni\\\\Dataset\\\\dataset_53-78\\\\uu_34_tahun_2004_64.json',\n",
       " 'c:\\\\Users\\\\lucky\\\\OneDrive\\\\Documents\\\\Kuliah\\\\SEMESTER 6\\\\Text Mining\\\\chatbot-uu-tni\\\\Dataset\\\\dataset_53-78\\\\uu_34_tahun_2004_65.json',\n",
       " 'c:\\\\Users\\\\lucky\\\\OneDrive\\\\Documents\\\\Kuliah\\\\SEMESTER 6\\\\Text Mining\\\\chatbot-uu-tni\\\\Dataset\\\\dataset_53-78\\\\uu_34_tahun_2004_66.json',\n",
       " 'c:\\\\Users\\\\lucky\\\\OneDrive\\\\Documents\\\\Kuliah\\\\SEMESTER 6\\\\Text Mining\\\\chatbot-uu-tni\\\\Dataset\\\\dataset_53-78\\\\uu_34_tahun_2004_67.json',\n",
       " 'c:\\\\Users\\\\lucky\\\\OneDrive\\\\Documents\\\\Kuliah\\\\SEMESTER 6\\\\Text Mining\\\\chatbot-uu-tni\\\\Dataset\\\\dataset_53-78\\\\uu_34_tahun_2004_68.json',\n",
       " 'c:\\\\Users\\\\lucky\\\\OneDrive\\\\Documents\\\\Kuliah\\\\SEMESTER 6\\\\Text Mining\\\\chatbot-uu-tni\\\\Dataset\\\\dataset_53-78\\\\uu_34_tahun_2004_69.json',\n",
       " 'c:\\\\Users\\\\lucky\\\\OneDrive\\\\Documents\\\\Kuliah\\\\SEMESTER 6\\\\Text Mining\\\\chatbot-uu-tni\\\\Dataset\\\\dataset_53-78\\\\uu_34_tahun_2004_70.json',\n",
       " 'c:\\\\Users\\\\lucky\\\\OneDrive\\\\Documents\\\\Kuliah\\\\SEMESTER 6\\\\Text Mining\\\\chatbot-uu-tni\\\\Dataset\\\\dataset_53-78\\\\uu_34_tahun_2004_71.json',\n",
       " 'c:\\\\Users\\\\lucky\\\\OneDrive\\\\Documents\\\\Kuliah\\\\SEMESTER 6\\\\Text Mining\\\\chatbot-uu-tni\\\\Dataset\\\\dataset_53-78\\\\uu_34_tahun_2004_72.json',\n",
       " 'c:\\\\Users\\\\lucky\\\\OneDrive\\\\Documents\\\\Kuliah\\\\SEMESTER 6\\\\Text Mining\\\\chatbot-uu-tni\\\\Dataset\\\\dataset_53-78\\\\uu_34_tahun_2004_73.json',\n",
       " 'c:\\\\Users\\\\lucky\\\\OneDrive\\\\Documents\\\\Kuliah\\\\SEMESTER 6\\\\Text Mining\\\\chatbot-uu-tni\\\\Dataset\\\\dataset_53-78\\\\uu_34_tahun_2004_74.json',\n",
       " 'c:\\\\Users\\\\lucky\\\\OneDrive\\\\Documents\\\\Kuliah\\\\SEMESTER 6\\\\Text Mining\\\\chatbot-uu-tni\\\\Dataset\\\\dataset_53-78\\\\uu_34_tahun_2004_75.json',\n",
       " 'c:\\\\Users\\\\lucky\\\\OneDrive\\\\Documents\\\\Kuliah\\\\SEMESTER 6\\\\Text Mining\\\\chatbot-uu-tni\\\\Dataset\\\\dataset_53-78\\\\uu_34_tahun_2004_76.json',\n",
       " 'c:\\\\Users\\\\lucky\\\\OneDrive\\\\Documents\\\\Kuliah\\\\SEMESTER 6\\\\Text Mining\\\\chatbot-uu-tni\\\\Dataset\\\\dataset_53-78\\\\uu_34_tahun_2004_77.json',\n",
       " 'c:\\\\Users\\\\lucky\\\\OneDrive\\\\Documents\\\\Kuliah\\\\SEMESTER 6\\\\Text Mining\\\\chatbot-uu-tni\\\\Dataset\\\\dataset_53-78\\\\uu_34_tahun_2004_78.json']"
      ]
     },
     "execution_count": 10,
     "metadata": {},
     "output_type": "execute_result"
    }
   ],
   "source": [
    "root = os.getcwd()\n",
    "datapath = os.path.join(root, \"Dataset\")\n",
    "\n",
    "# Ambil semua path *.json yang berada PERSIS di dalam dataset_*/ (bukan rekursif lagi)\n",
    "json_paths = glob.glob(os.path.join(datapath, \"dataset_*\", \"*.json\"))\n",
    "json_paths"
   ]
  },
  {
   "cell_type": "code",
   "execution_count": 13,
   "id": "9d8b895d",
   "metadata": {},
   "outputs": [
    {
     "name": "stdout",
     "output_type": "stream",
     "text": [
      "Total item terkumpul: 2188\n",
      "✅  Berkas gabungan tersimpan sebagai dataset.csv\n"
     ]
    },
    {
     "name": "stderr",
     "output_type": "stream",
     "text": [
      "<>:18: SyntaxWarning: invalid escape sequence '\\d'\n",
      "<>:18: SyntaxWarning: invalid escape sequence '\\d'\n",
      "C:\\Users\\lucky\\AppData\\Local\\Temp\\ipykernel_14528\\2360856949.py:18: SyntaxWarning: invalid escape sequence '\\d'\n",
      "  df.to_csv(\"Dataset\\dataset_full.csv\", index=False, encoding=\"utf-8\")\n"
     ]
    }
   ],
   "source": [
    "\n",
    "records = []\n",
    "for jp in json_paths:\n",
    "    with open(jp, \"r\", encoding=\"utf-8\") as f:\n",
    "        data = json.load(f)\n",
    "        if isinstance(data, list):\n",
    "            records.extend(data)\n",
    "        else:\n",
    "            records.append(data)\n",
    "\n",
    "print(f\"Total item terkumpul: {len(records)}\")\n",
    "\n",
    "df = pd.DataFrame(records)\n",
    "\n",
    "# (opsional) urutkan kolom\n",
    "order = [\"Context\", \"Question\", \"Answer\"]\n",
    "df = df[[c for c in order if c in df.columns] + [c for c in df.columns if c not in order]]\n",
    "\n",
    "df.to_csv(\"Dataset\\dataset_full.csv\", index=False, encoding=\"utf-8\")\n",
    "print(\"✅  Berkas gabungan tersimpan sebagai dataset.csv\")"
   ]
  },
  {
   "cell_type": "code",
   "execution_count": null,
   "id": "da5f9c7c",
   "metadata": {},
   "outputs": [],
   "source": []
  }
 ],
 "metadata": {
  "kernelspec": {
   "display_name": "base",
   "language": "python",
   "name": "python3"
  },
  "language_info": {
   "codemirror_mode": {
    "name": "ipython",
    "version": 3
   },
   "file_extension": ".py",
   "mimetype": "text/x-python",
   "name": "python",
   "nbconvert_exporter": "python",
   "pygments_lexer": "ipython3",
   "version": "3.12.7"
  }
 },
 "nbformat": 4,
 "nbformat_minor": 5
}
